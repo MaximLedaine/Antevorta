{
 "cells": [
  {
   "cell_type": "code",
   "execution_count": null,
   "metadata": {},
   "outputs": [],
   "source": [
    "import requests as requests\n",
    "import json\n",
    "import yfinance as yf\n",
    "import pandas as pd"
   ]
  },
  {
   "cell_type": "code",
   "execution_count": null,
   "metadata": {},
   "outputs": [],
   "source": [
    "stock = yf.Ticker(\"aapl\")\n",
    "\n",
    "# get stock info\n",
    "stock.info\n",
    "\n",
    "# get historical market data\n",
    "hist = stock.history(period=\"max\")\n",
    "\n",
    "# show actions (dividends, splits)\n",
    "stock.actions\n",
    "\n",
    "# show dividends\n",
    "stock.dividends\n",
    "\n",
    "# show splits\n",
    "stock.splits\n",
    "\n",
    "# show financials\n",
    "stock.financials\n",
    "stock.quarterly_financials\n",
    "\n",
    "# show major holders\n",
    "stock.major_holders\n",
    "\n",
    "# show institutional holders\n",
    "stock.institutional_holders\n",
    "\n",
    "# show balance heet\n",
    "stock.balance_sheet\n",
    "stock.quarterly_balance_sheet\n",
    "\n",
    "# show cashflow\n",
    "stock.cashflow\n",
    "stock.quarterly_cashflow\n",
    "\n",
    "# show earnings\n",
    "stock.earnings\n",
    "stock.quarterly_earnings\n",
    "\n",
    "# show sustainability\n",
    "stock.sustainability\n",
    "\n",
    "# show analysts recommendations\n",
    "stock.recommendations\n",
    "\n",
    "# show next event (earnings, etc)\n",
    "stock.calendar\n",
    "\n",
    "# show ISIN code - *experimental*\n",
    "# ISIN = International Securities Identification Number\n",
    "stock.isin\n",
    "\n",
    "# show options expirations\n",
    "stock.options\n",
    "\n",
    "# get option chain for specific expiration\n",
    "opt = stock.option_chain('YYYY-MM-DD')\n",
    "# data available via: opt.calls, opt.puts"
   ]
  },
  {
   "cell_type": "code",
   "execution_count": null,
   "metadata": {},
   "outputs": [],
   "source": [
    "stock.cashflow"
   ]
  },
  {
   "cell_type": "code",
   "execution_count": null,
   "metadata": {},
   "outputs": [],
   "source": [
    "proxy = \"http://200.255.122.170:8080\"\n",
    "\n",
    "stock = yf.Ticker(\"MSFT\")\n",
    "\n",
    "# stock.history(..., proxy=proxy)\n",
    "# stock.get_actions(proxy=proxy)\n",
    "# stock.get_dividends(proxy=proxy)\n",
    "# stock.get_splits(proxy=proxy)\n",
    "# stock.get_balance_sheet(proxy=proxy)\n",
    "# stock.get_cashflow(proxy=proxy)\n",
    "# stock.option_chain(..., proxy=proxy)"
   ]
  },
  {
   "cell_type": "code",
   "execution_count": null,
   "metadata": {},
   "outputs": [],
   "source": [
    "stock = yf.Ticker(\"ovv\")\n",
    "# stock.get_balance_sheet(proxy=proxy)\n",
    "stock.get_balance_sheet()"
   ]
  },
  {
   "cell_type": "code",
   "execution_count": null,
   "metadata": {},
   "outputs": [],
   "source": [
    "stock = yf.Ticker(\"ovv\")\n",
    "stock.info"
   ]
  },
  {
   "cell_type": "code",
   "execution_count": null,
   "metadata": {},
   "outputs": [],
   "source": [
    "hist = stock.history(period=\"max\")"
   ]
  },
  {
   "cell_type": "code",
   "execution_count": null,
   "metadata": {},
   "outputs": [],
   "source": [
    "hist"
   ]
  },
  {
   "cell_type": "code",
   "execution_count": null,
   "metadata": {},
   "outputs": [],
   "source": [
    "stock.get_actions()"
   ]
  },
  {
   "cell_type": "raw",
   "metadata": {},
   "source": []
  },
  {
   "cell_type": "code",
   "execution_count": null,
   "metadata": {},
   "outputs": [],
   "source": [
    "stock.get_balance_sheet()"
   ]
  },
  {
   "cell_type": "code",
   "execution_count": null,
   "metadata": {},
   "outputs": [],
   "source": [
    "stock.get_dividends()"
   ]
  },
  {
   "cell_type": "code",
   "execution_count": null,
   "metadata": {},
   "outputs": [],
   "source": [
    "res = stock.get_cashflow()\n",
    "print(res)"
   ]
  },
  {
   "cell_type": "code",
   "execution_count": null,
   "metadata": {},
   "outputs": [],
   "source": [
    "res = stock.option_chain()\n",
    "print(res)"
   ]
  },
  {
   "cell_type": "code",
   "execution_count": null,
   "metadata": {},
   "outputs": [],
   "source": [
    "stock.financials"
   ]
  },
  {
   "cell_type": "code",
   "execution_count": null,
   "metadata": {},
   "outputs": [],
   "source": [
    "stock.recommendations"
   ]
  },
  {
   "cell_type": "code",
   "execution_count": null,
   "metadata": {},
   "outputs": [],
   "source": [
    "stock.earnings"
   ]
  },
  {
   "cell_type": "code",
   "execution_count": null,
   "metadata": {},
   "outputs": [],
   "source": [
    "stock.quarterly_financials"
   ]
  },
  {
   "cell_type": "code",
   "execution_count": null,
   "metadata": {},
   "outputs": [],
   "source": []
  }
 ],
 "metadata": {
  "kernelspec": {
   "display_name": "Python 3",
   "language": "python",
   "name": "python3"
  },
  "language_info": {
   "codemirror_mode": {
    "name": "ipython",
    "version": 3
   },
   "file_extension": ".py",
   "mimetype": "text/x-python",
   "name": "python",
   "nbconvert_exporter": "python",
   "pygments_lexer": "ipython3",
   "version": "3.7.3"
  }
 },
 "nbformat": 4,
 "nbformat_minor": 2
}
