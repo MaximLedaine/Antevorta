{
 "cells": [
  {
   "cell_type": "code",
   "execution_count": null,
   "metadata": {},
   "outputs": [],
   "source": [
    "import json\n",
    "from elasticsearch import Elasticsearch\n",
    "es = Elasticsearch()"
   ]
  },
  {
   "cell_type": "code",
   "execution_count": null,
   "metadata": {},
   "outputs": [],
   "source": [
    "# search aggregates for companies with a marketcap of 1B or bigger\n",
    "body = {\n",
    "  \"size\": 0,\n",
    "  \"query\": {\n",
    "      \"range\" : {\n",
    "        \"marketCap\": {\n",
    "          \"gte\" : 1000000000\n",
    "        }\n",
    "      }\n",
    "    },\n",
    "  \"aggs\" : {\n",
    "    \"grades_stats\" : { \"stats\" : { \"field\" : \"peRatio\" } },\n",
    "    \"load_time_outlier\" : {\n",
    "      \"percentiles\" : {\n",
    "        \"field\" : \"peRatio\",\n",
    "        \"percents\" : [1,5,10,20,30,40,50]\n",
    "      }\n",
    "    }\n",
    "  }\n",
    "}\n",
    "res = es.search(index=\"stats\", body=body)\n",
    "print(json.dumps(res, indent=2))"
   ]
  },
  {
   "cell_type": "code",
   "execution_count": null,
   "metadata": {},
   "outputs": [],
   "source": [
    "# search peRatios smaller than ...\n",
    "body = {\n",
    "    \"size\": 10000,\n",
    "    \"query\": {\n",
    "         \"bool\": {\n",
    "            \"must\": [\n",
    "                {\n",
    "                    \"range\": {\n",
    "                        \"peRatio\": {\n",
    "                            \"lte\": 5\n",
    "                        },\n",
    "                    }\n",
    "                },\n",
    "                {\n",
    "                    \"range\": {\n",
    "                        \"marketCap\": {\n",
    "                            \"gte\" : 500000000\n",
    "                        }\n",
    "                    }\n",
    "                }\n",
    "            ]\n",
    "        }\n",
    "    }\n",
    "}\n",
    "res = es.search(index=\"stats\", body=body)\n",
    "print(json.dumps(res, indent=2))"
   ]
  },
  {
   "cell_type": "code",
   "execution_count": null,
   "metadata": {},
   "outputs": [],
   "source": [
    "# search aggregates for companies with a marketcap of 1B or bigger\n",
    "body = {\n",
    "  \"size\": 0,\n",
    "  \"query\": {\n",
    "      \"range\" : {\n",
    "        \"marketCap\": {\n",
    "          \"gte\" : 1000000000\n",
    "        }\n",
    "      }\n",
    "    },\n",
    "  \"aggs\" : {\n",
    "    \"trailingPe_percentiles\": {\n",
    "        \"percentiles\" : {\n",
    "            \"field\" : \"trailingPe\",\n",
    "            \"percents\" : [1,2,5,10,20,30,40,50]\n",
    "        }\n",
    "    },\n",
    "    \"trailingPe_stats\": {\n",
    "        \"extended_stats\" : { \n",
    "            \"field\" : \"trailingPe\" \n",
    "        }\n",
    "    },\n",
    "    \"trailingPe_weighted_avg\": {\n",
    "        \"weighted_avg\": {\n",
    "            \"value\": {\n",
    "                \"field\": \"trailingPe\"\n",
    "            },\n",
    "            \"weight\": {\n",
    "                \"field\": \"marketCap\"\n",
    "            }\n",
    "        }\n",
    "    }\n",
    "  }\n",
    "}\n",
    "res = es.search(index=\"statistics\", body=body)\n",
    "print(json.dumps(res, indent=2))"
   ]
  },
  {
   "cell_type": "code",
   "execution_count": null,
   "metadata": {},
   "outputs": [],
   "source": []
  },
  {
   "cell_type": "code",
   "execution_count": null,
   "metadata": {},
   "outputs": [],
   "source": []
  },
  {
   "cell_type": "code",
   "execution_count": null,
   "metadata": {},
   "outputs": [],
   "source": []
  }
 ],
 "metadata": {
  "kernelspec": {
   "display_name": "Python 3",
   "language": "python",
   "name": "python3"
  },
  "language_info": {
   "codemirror_mode": {
    "name": "ipython",
    "version": 3
   },
   "file_extension": ".py",
   "mimetype": "text/x-python",
   "name": "python",
   "nbconvert_exporter": "python",
   "pygments_lexer": "ipython3",
   "version": "3.7.3"
  }
 },
 "nbformat": 4,
 "nbformat_minor": 2
}
