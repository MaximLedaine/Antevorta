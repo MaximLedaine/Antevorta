{
 "cells": [
  {
   "cell_type": "code",
   "execution_count": null,
   "metadata": {},
   "outputs": [],
   "source": [
    "# WACC = E/V * Ke + D/V * Kd * (1 - Tc)\n",
    "    # Ke = cost of equity = Rf + (β * (Rm - Rf)) (CAPM)\n",
    "        # Rf = risk-free rate\n",
    "        # Rm = market rate of return\n",
    "        # β = systematic risk = Covariance(Re, Rm) / Variance(Rm)\n",
    "            # Re = expected return of investment = SUM (Return i x Probability i) \n",
    "                # or ROI = (Current Value of Investment - Cost of Investment) / Cost of Investment\n",
    "            # Rm = market rate of return\n",
    "            \n",
    "    # Kd = cost of debt = IE * (1 - TR)\n",
    "        # IER = Interest expense ratio\n",
    "        # TR = tax rate\n",
    "        \n",
    "    # E = market value of equity\n",
    "        # value decided by investors\n",
    "        \n",
    "    # D = market value of debt\n",
    "        # book value of debt\n",
    "        # C [(1 - (1 / (1 + Kd)^t)) / Kd] + [ LTD / (1 + Kd)^t]\n",
    "            # C = current interest expense\n",
    "            # Kd = cost of debt\n",
    "            # t = weighted average maturity \n",
    "            # LTD = long term debt (book value)\n",
    "        \n",
    "    # V = E + D = total market value\n",
    "    \n",
    "    # Tc = corporate tax rate\n",
    "    "
   ]
  },
  {
   "cell_type": "code",
   "execution_count": null,
   "metadata": {},
   "outputs": [],
   "source": [
    "import requests as requests\n",
    "import pandas as pd\n",
    "import numpy as np\n",
    "from datetime import datetime\n",
    "from dateutil.relativedelta import relativedelta\n",
    "import matplotlib.pyplot as plt\n",
    "%matplotlib inline\n",
    "import io\n",
    "plt.style.use('ggplot')\n",
    "baseUrl = 'https://sandbox.iexapis.com/v1'\n",
    "apikey = 'Tpk_0d3659b6498c4c3585a7d2ee190cbfc7'\n",
    "# baseUrl =  'https://cloud.iexapis.com/v1'\n",
    "# apikey =  'pk_8a31fe45ab0c48c785d7f10d0021b0e9'"
   ]
  },
  {
   "cell_type": "code",
   "execution_count": null,
   "metadata": {},
   "outputs": [],
   "source": [
    "years = 5\n",
    "symbol = 'eca'"
   ]
  },
  {
   "cell_type": "code",
   "execution_count": null,
   "metadata": {},
   "outputs": [],
   "source": [
    "# Ke = cost of equity = Rf + (β * (Rm - Rf)) (CAPM)\n",
    "        # Rf = risk-free rate\n",
    "        # Rm = market rate of return\n",
    "        # β = systematic risk = Covariance(Re, Rm) / Variance(Rm)\n",
    "            # Re = expected return of investment = SUM (Return i x Probability i) \n",
    "                # or ROI = (Current Value of Investment - Cost of Investment) / Cost of Investment\n",
    "            # Rm = market rate of return"
   ]
  },
  {
   "cell_type": "code",
   "execution_count": null,
   "metadata": {},
   "outputs": [],
   "source": [
    "response = requests.get(\n",
    "    baseUrl + '/stock/{}/financials'.format(symbol),\n",
    "    params= {\n",
    "        'token': apikey,\n",
    "        'format': 'json',\n",
    "        'period': 'annual'\n",
    "        }\n",
    "    )\n",
    "financials = pd.read_json(response.content)['financials'][0]"
   ]
  },
  {
   "cell_type": "code",
   "execution_count": null,
   "metadata": {},
   "outputs": [],
   "source": [
    "response = requests.get(\n",
    "    baseUrl + '/stock/{}/income'.format(symbol),\n",
    "    params= {\n",
    "        'token': apikey,\n",
    "        'format': 'json',\n",
    "        'period': 'annual',\n",
    "        'last': '1'\n",
    "        }\n",
    "    )\n",
    "df = pd.read_json(response.content)['income']\n",
    "income = pd.read_json(response.content)['income'][0]"
   ]
  },
  {
   "cell_type": "code",
   "execution_count": null,
   "metadata": {},
   "outputs": [],
   "source": [
    "Rf = 0.0212 # three month US treasury bill rate"
   ]
  },
  {
   "cell_type": "code",
   "execution_count": null,
   "metadata": {},
   "outputs": [],
   "source": [
    "Rm = 0.08 # s&p500 average"
   ]
  },
  {
   "cell_type": "code",
   "execution_count": null,
   "metadata": {},
   "outputs": [],
   "source": []
  },
  {
   "cell_type": "code",
   "execution_count": null,
   "metadata": {},
   "outputs": [],
   "source": [
    "response = requests.get(\n",
    "    baseUrl + '/stock/{}/stats/beta'.format(symbol),\n",
    "    params= {\n",
    "        'token': apikey,\n",
    "        'format': 'json'\n",
    "        }\n",
    "    )\n",
    "\n",
    "β =  float(response.content)"
   ]
  },
  {
   "cell_type": "code",
   "execution_count": null,
   "metadata": {},
   "outputs": [],
   "source": []
  },
  {
   "cell_type": "code",
   "execution_count": null,
   "metadata": {},
   "outputs": [],
   "source": [
    "Ke = Rf + (β * (Rm - Rf))\n",
    "Ke"
   ]
  },
  {
   "cell_type": "code",
   "execution_count": null,
   "metadata": {},
   "outputs": [],
   "source": [
    "# Kd = cost of debt = IE * (1 - TR)\n",
    "        # IER = Interest expense ratio\n",
    "        # TR = tax rate"
   ]
  },
  {
   "cell_type": "code",
   "execution_count": null,
   "metadata": {},
   "outputs": [],
   "source": [
    "LTD = financials['longTermDebt']\n",
    "ebit = income['ebit']\n",
    "netIncome = income['netIncome']\n",
    "pretaxIncome= income['pretaxIncome']\n",
    "\n",
    "IER = income['interestIncome'] / LTD\n",
    "IE = income['interestIncome']"
   ]
  },
  {
   "cell_type": "code",
   "execution_count": null,
   "metadata": {},
   "outputs": [],
   "source": [
    "IER"
   ]
  },
  {
   "cell_type": "code",
   "execution_count": null,
   "metadata": {},
   "outputs": [],
   "source": [
    "IE"
   ]
  },
  {
   "cell_type": "code",
   "execution_count": null,
   "metadata": {},
   "outputs": [],
   "source": []
  },
  {
   "cell_type": "code",
   "execution_count": null,
   "metadata": {},
   "outputs": [],
   "source": []
  },
  {
   "cell_type": "code",
   "execution_count": null,
   "metadata": {},
   "outputs": [],
   "source": [
    "incomeTax = income['incomeTax']\n",
    "pretaxIncome = income['pretaxIncome']\n",
    "\n",
    "TR = incomeTax / pretaxIncome"
   ]
  },
  {
   "cell_type": "code",
   "execution_count": null,
   "metadata": {},
   "outputs": [],
   "source": [
    "Kd = IER * (1 - TR) # derived from reported financials & income statement"
   ]
  },
  {
   "cell_type": "code",
   "execution_count": null,
   "metadata": {},
   "outputs": [],
   "source": []
  },
  {
   "cell_type": "code",
   "execution_count": null,
   "metadata": {},
   "outputs": [],
   "source": []
  },
  {
   "cell_type": "code",
   "execution_count": null,
   "metadata": {},
   "outputs": [],
   "source": [
    "Kd = IER * (1 - TR) # derived from income statement\n",
    "Kd"
   ]
  },
  {
   "cell_type": "code",
   "execution_count": null,
   "metadata": {},
   "outputs": [],
   "source": [
    "# E = market value of equity\n",
    "    # value decided by investors"
   ]
  },
  {
   "cell_type": "code",
   "execution_count": null,
   "metadata": {},
   "outputs": [],
   "source": [
    "response = requests.get(\n",
    "    baseUrl + '/stock/{}/stats/marketcap'.format(symbol),\n",
    "    params= {\n",
    "        'token': apikey,\n",
    "        'format': 'json'\n",
    "        }\n",
    "    )\n",
    "marketcap = float(response.content)"
   ]
  },
  {
   "cell_type": "code",
   "execution_count": null,
   "metadata": {},
   "outputs": [],
   "source": [
    "E = marketcap"
   ]
  },
  {
   "cell_type": "code",
   "execution_count": null,
   "metadata": {},
   "outputs": [],
   "source": [
    "# D = market value of debt\n",
    "        # book value of debt\n",
    "        # C [(1 - (1 / (1 + Kd)^t)) / Kd] + [ LTD / (1 + Kd)^t]\n",
    "            # C = current interest expense\n",
    "            # Kd = cost of debt\n",
    "            # t = weighted average maturity \n",
    "            # LTD = total debt (book value)\n"
   ]
  },
  {
   "cell_type": "code",
   "execution_count": null,
   "metadata": {},
   "outputs": [],
   "source": [
    "t = 5"
   ]
  },
  {
   "cell_type": "code",
   "execution_count": null,
   "metadata": {},
   "outputs": [],
   "source": [
    "D = IE * ((1 - (1 / pow((1 + Kd), t))) / Kd) + (LTD / pow((1 + Kd),t))"
   ]
  },
  {
   "cell_type": "code",
   "execution_count": null,
   "metadata": {},
   "outputs": [],
   "source": []
  },
  {
   "cell_type": "code",
   "execution_count": null,
   "metadata": {},
   "outputs": [],
   "source": [
    "# V = E + D = total market value"
   ]
  },
  {
   "cell_type": "code",
   "execution_count": null,
   "metadata": {},
   "outputs": [],
   "source": [
    "V = E + D"
   ]
  },
  {
   "cell_type": "code",
   "execution_count": null,
   "metadata": {},
   "outputs": [],
   "source": [
    " # Tc = corporate tax rate"
   ]
  },
  {
   "cell_type": "code",
   "execution_count": null,
   "metadata": {},
   "outputs": [],
   "source": [
    "Tc = 0.25 # legal value"
   ]
  },
  {
   "cell_type": "code",
   "execution_count": null,
   "metadata": {},
   "outputs": [],
   "source": []
  },
  {
   "cell_type": "code",
   "execution_count": null,
   "metadata": {},
   "outputs": [],
   "source": [
    "# WACC = E/V * Ke + D/V * Kd * (1 - Tc)"
   ]
  },
  {
   "cell_type": "code",
   "execution_count": null,
   "metadata": {},
   "outputs": [],
   "source": [
    "WACC = E/V * Ke + D/V * Kd * (1 - Tc)"
   ]
  },
  {
   "cell_type": "code",
   "execution_count": null,
   "metadata": {},
   "outputs": [],
   "source": [
    "WACC"
   ]
  },
  {
   "cell_type": "code",
   "execution_count": null,
   "metadata": {},
   "outputs": [],
   "source": []
  },
  {
   "cell_type": "code",
   "execution_count": null,
   "metadata": {},
   "outputs": [],
   "source": []
  },
  {
   "cell_type": "code",
   "execution_count": null,
   "metadata": {},
   "outputs": [],
   "source": []
  },
  {
   "cell_type": "code",
   "execution_count": null,
   "metadata": {},
   "outputs": [],
   "source": []
  },
  {
   "cell_type": "code",
   "execution_count": null,
   "metadata": {},
   "outputs": [],
   "source": []
  },
  {
   "cell_type": "code",
   "execution_count": null,
   "metadata": {},
   "outputs": [],
   "source": []
  },
  {
   "cell_type": "code",
   "execution_count": null,
   "metadata": {},
   "outputs": [],
   "source": []
  },
  {
   "cell_type": "code",
   "execution_count": null,
   "metadata": {},
   "outputs": [],
   "source": []
  },
  {
   "cell_type": "code",
   "execution_count": null,
   "metadata": {},
   "outputs": [],
   "source": []
  },
  {
   "cell_type": "code",
   "execution_count": null,
   "metadata": {},
   "outputs": [],
   "source": []
  },
  {
   "cell_type": "code",
   "execution_count": null,
   "metadata": {},
   "outputs": [],
   "source": []
  },
  {
   "cell_type": "code",
   "execution_count": null,
   "metadata": {},
   "outputs": [],
   "source": []
  }
 ],
 "metadata": {
  "kernelspec": {
   "display_name": "Python 3",
   "language": "python",
   "name": "python3"
  },
  "language_info": {
   "codemirror_mode": {
    "name": "ipython",
    "version": 3
   },
   "file_extension": ".py",
   "mimetype": "text/x-python",
   "name": "python",
   "nbconvert_exporter": "python",
   "pygments_lexer": "ipython3",
   "version": "3.7.3"
  }
 },
 "nbformat": 4,
 "nbformat_minor": 2
}
