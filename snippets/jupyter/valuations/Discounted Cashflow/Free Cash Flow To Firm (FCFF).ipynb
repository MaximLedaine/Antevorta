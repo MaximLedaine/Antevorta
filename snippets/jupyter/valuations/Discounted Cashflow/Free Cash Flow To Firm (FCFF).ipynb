{
 "cells": [
  {
   "cell_type": "code",
   "execution_count": null,
   "metadata": {},
   "outputs": [],
   "source": [
    "# FCFF = CFO + (IE * (1 - TR)) - CE\n",
    "    # CFO = cash flow from operation\n",
    "    # IE = interest expense\n",
    "    # TR = tax rate\n",
    "    # CE = capital expense"
   ]
  },
  {
   "cell_type": "code",
   "execution_count": null,
   "metadata": {},
   "outputs": [],
   "source": [
    "import requests as requests\n",
    "import locale\n",
    "locale.setlocale(locale.LC_ALL, '')\n",
    "import pandas as pd\n",
    "import numpy as np\n",
    "from datetime import datetime\n",
    "from dateutil.relativedelta import relativedelta\n",
    "import matplotlib.pyplot as plt\n",
    "%matplotlib inline\n",
    "import io\n",
    "plt.style.use('ggplot')\n",
    "baseUrl = 'https://sandbox.iexapis.com/v1'\n",
    "apikey = 'Tpk_0d3659b6498c4c3585a7d2ee190cbfc7'\n",
    "# baseUrl =  'https://cloud.iexapis.com/v1'\n",
    "# apikey =  'pk_8a31fe45ab0c48c785d7f10d0021b0e9'"
   ]
  },
  {
   "cell_type": "code",
   "execution_count": null,
   "metadata": {},
   "outputs": [],
   "source": [
    "symbol = 'eca'"
   ]
  },
  {
   "cell_type": "code",
   "execution_count": null,
   "metadata": {},
   "outputs": [],
   "source": [
    "response = requests.get(\n",
    "    baseUrl + '/stock/{}/cash-flow'.format(symbol),\n",
    "    params= {\n",
    "        'token': apikey,\n",
    "        'format': 'json',\n",
    "        'period': 'annual'\n",
    "        }\n",
    "    )\n",
    "cashflow = pd.read_json(response.content)['cashflow'][0]"
   ]
  },
  {
   "cell_type": "code",
   "execution_count": null,
   "metadata": {},
   "outputs": [],
   "source": [
    "response = requests.get(\n",
    "    baseUrl + '/stock/{}/income'.format(symbol),\n",
    "    params= {\n",
    "        'token': apikey,\n",
    "        'format': 'json',\n",
    "        'period': 'annual',\n",
    "        'last': '1'\n",
    "        }\n",
    "    )\n",
    "income = pd.read_json(response.content)['income'][0]"
   ]
  },
  {
   "cell_type": "code",
   "execution_count": null,
   "metadata": {},
   "outputs": [],
   "source": [
    "incomeTax = income['incomeTax']\n",
    "pretaxIncome = income['pretaxIncome']\n",
    "TR = incomeTax / pretaxIncome\n",
    "\n",
    "IE = income['interestIncome']\n",
    "CFO = cashflow['cashFlow']\n",
    "CE = - cashflow['capitalExpenditures'] "
   ]
  },
  {
   "cell_type": "code",
   "execution_count": null,
   "metadata": {},
   "outputs": [],
   "source": [
    "FCFF = CFO + (IE * (1 - TR)) - CE"
   ]
  },
  {
   "cell_type": "code",
   "execution_count": null,
   "metadata": {},
   "outputs": [],
   "source": [
    "locale.currency(FCFF, grouping=True)"
   ]
  },
  {
   "cell_type": "code",
   "execution_count": null,
   "metadata": {},
   "outputs": [],
   "source": []
  }
 ],
 "metadata": {
  "kernelspec": {
   "display_name": "Python 3",
   "language": "python",
   "name": "python3"
  },
  "language_info": {
   "codemirror_mode": {
    "name": "ipython",
    "version": 3
   },
   "file_extension": ".py",
   "mimetype": "text/x-python",
   "name": "python",
   "nbconvert_exporter": "python",
   "pygments_lexer": "ipython3",
   "version": "3.7.3"
  }
 },
 "nbformat": 4,
 "nbformat_minor": 2
}
