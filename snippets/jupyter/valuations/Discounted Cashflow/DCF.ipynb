{
 "cells": [
  {
   "cell_type": "code",
   "execution_count": null,
   "metadata": {},
   "outputs": [],
   "source": [
    "# DCF = (CF1 / (1 + r)^1) + (CF2 / (1 + r)^2) + ... + (CF3 / (1 + r)^3) + (CFn / (1 + r)^n)\n",
    "    # n => ∞\n",
    "    # TV = terminal value\n",
    "        # prepetual growth =  (FCFn * (1 + g))  /  (WACC – g) or NPV = Future payments after year n / (1 + WACC)^n\n",
    "            # FCF = free cash flow\n",
    "            # g = perpetual growth rate of FCF\n",
    "            # WACC = weighted average cost of capital\n",
    "        # exit multiple = Financial metric (i.e. EBITDA)  x  trading multiple"
   ]
  },
  {
   "cell_type": "code",
   "execution_count": null,
   "metadata": {},
   "outputs": [],
   "source": [
    "import requests as requests\n",
    "import locale\n",
    "locale.setlocale(locale.LC_ALL, '')\n",
    "import pandas as pd\n",
    "import numpy as np\n",
    "from datetime import datetime\n",
    "from dateutil.relativedelta import relativedelta\n",
    "import matplotlib.pyplot as plt\n",
    "%matplotlib inline\n",
    "import io\n",
    "plt.style.use('ggplot')\n",
    "baseUrl = 'https://sandbox.iexapis.com/v1'\n",
    "apikey = 'Tpk_0d3659b6498c4c3585a7d2ee190cbfc7'\n",
    "# baseUrl =  'https://cloud.iexapis.com/v1'\n",
    "# apikey =  'pk_8a31fe45ab0c48c785d7f10d0021b0e9'"
   ]
  },
  {
   "cell_type": "code",
   "execution_count": null,
   "metadata": {},
   "outputs": [],
   "source": [
    "symbol = 'aapl'"
   ]
  },
  {
   "cell_type": "code",
   "execution_count": null,
   "metadata": {},
   "outputs": [],
   "source": [
    "response = requests.get(\n",
    "    baseUrl + '/stock/{}/cash-flow'.format(symbol),\n",
    "    params= {\n",
    "        'token': apikey,\n",
    "        'format': 'json',\n",
    "        'period': 'annual',\n",
    "        'last': '1'\n",
    "        }\n",
    "    )\n",
    "cashflow = pd.read_json(response.content)['cashflow'][0]"
   ]
  },
  {
   "cell_type": "code",
   "execution_count": null,
   "metadata": {},
   "outputs": [],
   "source": [
    "response = requests.get(\n",
    "    baseUrl + '/stock/{}/income'.format(symbol),\n",
    "    params= {\n",
    "        'token': apikey,\n",
    "        'format': 'json',\n",
    "        'period': 'annual',\n",
    "        'last': '1'\n",
    "        }\n",
    "    )\n",
    "income = pd.read_json(response.content)['income'][0]"
   ]
  },
  {
   "cell_type": "code",
   "execution_count": null,
   "metadata": {},
   "outputs": [],
   "source": [
    "ebit = income['ebit']\n",
    "incomeTax = income['incomeTax']\n",
    "pretaxIncome = income['pretaxIncome']\n",
    "TR = incomeTax / pretaxIncome\n",
    "IE = income['interestIncome']\n",
    "CFO = cashflow['cashFlow']\n",
    "CE = - cashflow['capitalExpenditures'] \n",
    "FCFF = CFO + (IE * (1 - TR)) - CE"
   ]
  },
  {
   "cell_type": "code",
   "execution_count": null,
   "metadata": {},
   "outputs": [],
   "source": [
    "ECFs = [FCFF,FCFF,FCFF,FCFF,FCFF]\n",
    "r = WACC = 0.0816"
   ]
  },
  {
   "cell_type": "code",
   "execution_count": null,
   "metadata": {},
   "outputs": [],
   "source": [
    "locale.currency(FCFF, grouping=True)"
   ]
  },
  {
   "cell_type": "code",
   "execution_count": null,
   "metadata": {},
   "outputs": [],
   "source": []
  },
  {
   "cell_type": "code",
   "execution_count": null,
   "metadata": {},
   "outputs": [],
   "source": [
    "# perpetual growth rate of FCF\n",
    "Rf = 0.02 # risk free rate\n",
    "g = Rf\n"
   ]
  },
  {
   "cell_type": "code",
   "execution_count": null,
   "metadata": {},
   "outputs": [],
   "source": [
    "DCF = 0\n",
    "TV = (FCFF * (1 + g)) / (WACC - g) \n",
    "# TV = (1000 / pow((1 + WACC), len(ECFs)))\n",
    "for i, CF in enumerate(ECFs):\n",
    "    DCF = DCF + (CF / pow(1 + r, i))\n",
    "DCF = DCF + (TV / pow((1 + WACC), len(ECFs)))"
   ]
  },
  {
   "cell_type": "code",
   "execution_count": null,
   "metadata": {},
   "outputs": [],
   "source": [
    "locale.currency(DCF, grouping=True)"
   ]
  },
  {
   "cell_type": "code",
   "execution_count": null,
   "metadata": {},
   "outputs": [],
   "source": [
    "# exit multiple"
   ]
  },
  {
   "cell_type": "code",
   "execution_count": null,
   "metadata": {},
   "outputs": [],
   "source": [
    "DCF = 0\n",
    "TV = ebit * 8\n",
    "for i, CF in enumerate(ECFs):\n",
    "    DCF = DCF + (CF / pow(1 + r, i))\n",
    "DCF = DCF + TV\n"
   ]
  },
  {
   "cell_type": "code",
   "execution_count": null,
   "metadata": {},
   "outputs": [],
   "source": [
    "locale.currency(DCF, grouping=True)"
   ]
  },
  {
   "cell_type": "code",
   "execution_count": null,
   "metadata": {},
   "outputs": [],
   "source": []
  },
  {
   "cell_type": "code",
   "execution_count": null,
   "metadata": {},
   "outputs": [],
   "source": []
  },
  {
   "cell_type": "code",
   "execution_count": null,
   "metadata": {},
   "outputs": [],
   "source": []
  },
  {
   "cell_type": "code",
   "execution_count": null,
   "metadata": {},
   "outputs": [],
   "source": []
  },
  {
   "cell_type": "code",
   "execution_count": null,
   "metadata": {},
   "outputs": [],
   "source": []
  },
  {
   "cell_type": "code",
   "execution_count": null,
   "metadata": {},
   "outputs": [],
   "source": []
  },
  {
   "cell_type": "code",
   "execution_count": null,
   "metadata": {},
   "outputs": [],
   "source": []
  },
  {
   "cell_type": "code",
   "execution_count": null,
   "metadata": {},
   "outputs": [],
   "source": []
  },
  {
   "cell_type": "code",
   "execution_count": null,
   "metadata": {},
   "outputs": [],
   "source": []
  }
 ],
 "metadata": {
  "kernelspec": {
   "display_name": "Python 3",
   "language": "python",
   "name": "python3"
  },
  "language_info": {
   "codemirror_mode": {
    "name": "ipython",
    "version": 3
   },
   "file_extension": ".py",
   "mimetype": "text/x-python",
   "name": "python",
   "nbconvert_exporter": "python",
   "pygments_lexer": "ipython3",
   "version": "3.7.3"
  }
 },
 "nbformat": 4,
 "nbformat_minor": 2
}
