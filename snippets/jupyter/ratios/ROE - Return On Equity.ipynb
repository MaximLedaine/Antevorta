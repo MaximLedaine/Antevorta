{
 "cells": [
  {
   "cell_type": "code",
   "execution_count": null,
   "metadata": {},
   "outputs": [],
   "source": [
    "# ROE = Return On Equity\n",
    "#     = netIncome / (shareholderEquity)\n",
    "# Return on equity measures how effectively management is using a company’s assets to create profits.\n",
    "# A good or bad ROE will depend on what’s normal for the industry or company peers."
   ]
  },
  {
   "cell_type": "code",
   "execution_count": null,
   "metadata": {},
   "outputs": [],
   "source": [
    "import requests as requests\n",
    "import locale\n",
    "locale.setlocale(locale.LC_ALL, '')\n",
    "import pandas as pd\n",
    "import numpy as np\n",
    "from datetime import datetime\n",
    "from dateutil.relativedelta import relativedelta\n",
    "import matplotlib.pyplot as plt\n",
    "%matplotlib inline\n",
    "import io\n",
    "import json\n",
    "plt.style.use('ggplot')\n",
    "baseUrl = 'https://sandbox.iexapis.com/v1'\n",
    "apikey = 'Tpk_0d3659b6498c4c3585a7d2ee190cbfc7'\n",
    "# baseUrl =  'https://cloud.iexapis.com/v1'\n",
    "# apikey =  'pk_8a31fe45ab0c48c785d7f10d0021b0e9'"
   ]
  },
  {
   "cell_type": "code",
   "execution_count": null,
   "metadata": {},
   "outputs": [],
   "source": [
    "symbol = 'eca'"
   ]
  },
  {
   "cell_type": "code",
   "execution_count": null,
   "metadata": {},
   "outputs": [],
   "source": [
    "response = requests.get(\n",
    "    baseUrl + '/stock/{}/stats'.format(symbol),\n",
    "    params= {\n",
    "        'token': apikey,\n",
    "        'format': 'json'\n",
    "        }\n",
    "    )\n",
    "stats = json.loads((response.content).decode(\"utf-8\"))"
   ]
  },
  {
   "cell_type": "code",
   "execution_count": null,
   "metadata": {},
   "outputs": [],
   "source": []
  },
  {
   "cell_type": "code",
   "execution_count": null,
   "metadata": {},
   "outputs": [],
   "source": [
    "# ROE"
   ]
  },
  {
   "cell_type": "code",
   "execution_count": null,
   "metadata": {},
   "outputs": [],
   "source": [
    "response = requests.get(\n",
    "    baseUrl + '/stock/{}/financials'.format(symbol),\n",
    "    params= {\n",
    "        'token': apikey,\n",
    "        'format': 'json',\n",
    "        'period': 'annual',\n",
    "        'last': '1'\n",
    "        }\n",
    "    )\n",
    "financials = pd.read_json(response.content)['financials'][0]"
   ]
  },
  {
   "cell_type": "code",
   "execution_count": null,
   "metadata": {},
   "outputs": [],
   "source": [
    "netIncome = financials['netIncome']\n",
    "shareholderEquity = financials['totalAssets'] - financials['totalLiabilities']"
   ]
  },
  {
   "cell_type": "code",
   "execution_count": null,
   "metadata": {},
   "outputs": [],
   "source": [
    "ROE = netIncome / shareholderEquity"
   ]
  },
  {
   "cell_type": "code",
   "execution_count": null,
   "metadata": {},
   "outputs": [],
   "source": [
    "ROE"
   ]
  },
  {
   "cell_type": "code",
   "execution_count": null,
   "metadata": {},
   "outputs": [],
   "source": []
  },
  {
   "cell_type": "code",
   "execution_count": null,
   "metadata": {},
   "outputs": [],
   "source": []
  },
  {
   "cell_type": "code",
   "execution_count": null,
   "metadata": {},
   "outputs": [],
   "source": []
  }
 ],
 "metadata": {
  "kernelspec": {
   "display_name": "Python 3",
   "language": "python",
   "name": "python3"
  },
  "language_info": {
   "codemirror_mode": {
    "name": "ipython",
    "version": 3
   },
   "file_extension": ".py",
   "mimetype": "text/x-python",
   "name": "python",
   "nbconvert_exporter": "python",
   "pygments_lexer": "ipython3",
   "version": "3.7.3"
  }
 },
 "nbformat": 4,
 "nbformat_minor": 2
}
